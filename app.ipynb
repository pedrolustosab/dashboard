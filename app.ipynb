{
 "cells": [
  {
   "cell_type": "code",
   "execution_count": 4,
   "metadata": {},
   "outputs": [],
   "source": [
    "import os\n",
    "import io\n",
    "import base64\n",
    "from PIL import Image\n",
    "from langchain.chat_models import ChatOpenAI\n",
    "from langchain.schema import HumanMessage\n",
    "from dotenv import load_dotenv"
   ]
  },
  {
   "cell_type": "code",
   "execution_count": 2,
   "metadata": {},
   "outputs": [],
   "source": [
    "# Function to initialize the language model\n",
    "def initialize_llm(api_key: str, model: str = \"gpt-4o\", max_tokens: int = 1024) -> ChatOpenAI:\n",
    "    return ChatOpenAI(openai_api_key=api_key, model=model, max_tokens=max_tokens)\n",
    "\n",
    "# Function to convert an image to base64\n",
    "def image_to_base64(image_path: str) -> str:\n",
    "    \"\"\"Convert an image to base64 format.\"\"\"\n",
    "    with Image.open(image_path) as image:\n",
    "        buffer = io.BytesIO()\n",
    "        image.save(buffer, format=image.format)  # Use the appropriate format\n",
    "        img_str = base64.b64encode(buffer.getvalue())\n",
    "        return img_str.decode(\"utf-8\")\n",
    "\n",
    "# Function to generate a summary of the dashboard image\n",
    "def generate_image_summary(llm: ChatOpenAI, image_base64: str) -> str:\n",
    "    \"\"\"Generate a summary of the dashboard image using the language model.\"\"\"\n",
    "    prompt = (\n",
    "        \"Please give a summary of the image provided. Be descriptive and smart:\\n\"\n",
    "        \"Are there buttons?\\n\"\n",
    "        \"Are there charts?\\n\"\n",
    "        \"Describe each chart.\\n\"\n",
    "        \"What are the charts showing?\\n\"\n",
    "        \"Are there improvements from UI and UX rules?\"\n",
    "    )\n",
    "    \n",
    "    message = HumanMessage(\n",
    "        content=[\n",
    "            {\"type\": \"text\", \"text\": prompt},\n",
    "            {\n",
    "                \"type\": \"image_url\",\n",
    "                \"image_url\": {\n",
    "                    \"url\": f\"data:image/png;base64,{image_base64}\"\n",
    "                }\n",
    "            },\n",
    "        ]\n",
    "    )\n",
    "\n",
    "    response = llm.invoke([message])\n",
    "    return response.content\n"
   ]
  },
  {
   "cell_type": "code",
   "execution_count": 9,
   "metadata": {},
   "outputs": [
    {
     "name": "stdout",
     "output_type": "stream",
     "text": [
      "The image is a dashboard for a business related to malls, featuring a dark blue theme with various charts and data visualizations. Here’s a detailed breakdown:\n",
      "\n",
      "### Buttons and Navigation:\n",
      "- **Sidebar**: Contains buttons for \"Visão Geral,\" \"Grupo Malls,\" \"Cenários,\" and \"Projetos.\" These are likely navigation buttons for different views or sections.\n",
      "- **Top Right**: Contains icons for filters and settings, which may allow users to adjust the view or customize data.\n",
      "\n",
      "### Charts and Data:\n",
      "1. **Top Summary Cards**:\n",
      "   - **Receita Bruta (Gross Revenue) R$(MM)**:\n",
      "     - Value: 4,094.03\n",
      "     - Forecast: 4,110.79 (-0.41%)\n",
      "     - Trend line indicates slight downward deviation from forecast.\n",
      "   - **Custos e Despesas (Costs and Expenses) R$(MM)**:\n",
      "     - Value: 2,746.21\n",
      "     - Forecast: 2,950.14 (-6.91%)\n",
      "     - Trend line shows a decrease.\n",
      "   - **Resultado Operacional (Operating Result) R$(MM)**:\n",
      "     - Value: 898.08\n",
      "     - Forecast: 713.28 (25.91%)\n",
      "     - Trend line indicates improvement.\n",
      "   - **Resultado Antes do IR (Result Before Tax) R$(MM)**:\n",
      "     - Value: 605.23\n",
      "     - Forecast: 366.78 (65.01%)\n",
      "     - Trend line shows significant improvement.\n",
      "\n",
      "2. **DRE Gráfica**:\n",
      "   - Bar chart displaying financial metrics such as Receita Bruta, Deduções, Receita Líquida, Custos e Despesas, and more.\n",
      "   - Highlights changes in values with color-coded bars for easy comparison.\n",
      "\n",
      "3. **Pareto por Segmentação**:\n",
      "   - Bar chart presenting data by segment, with percentages indicating contribution to total.\n",
      "   - Segments include MEGA STORE, ALIMENTAÇÃO, CALÇADO, ROUPA, and LIVRARIA with respective metrics.\n",
      "\n",
      "4. **Receita Bruta: Previsto vs Realizado**:\n",
      "   - Line chart showing predicted vs. actual gross revenue from January 2021 to December 2023.\n",
      "   - Shows trends and fluctuations over the period.\n",
      "\n",
      "### UI/UX Improvements:\n",
      "- **Clarity and Contrast**: The dashboard uses a dark theme with contrasting colors for better readability.\n",
      "- **Data Visualization**: Effective use of charts to convey complex data simply.\n",
      "- **Navigation**: Clear and intuitive buttons for navigating between sections.\n",
      "- **Interactivity Potential**: Dropdown and icon buttons suggest customizable and interactive elements for users.\n",
      "\n",
      "Overall, the dashboard offers a comprehensive and user-friendly interface for financial data analysis in the mall business sector.\n"
     ]
    }
   ],
   "source": [
    "# Replace with your own method of retrieving the API key\n",
    "OPENAI_API_KEY = os.getenv(\"OPENAI_API_KEY\")\n",
    "\n",
    "# Initialize the language model\n",
    "llm = initialize_llm(OPENAI_API_KEY)\n",
    "\n",
    "# Convert image to base64\n",
    "image_path = 'dashboard.png'\n",
    "image_base64 = image_to_base64(image_path)\n",
    "\n",
    "# Generate the summary\n",
    "summary = generate_image_summary(llm, image_base64)\n",
    "print(summary)"
   ]
  }
 ],
 "metadata": {
  "kernelspec": {
   "display_name": "Python 3",
   "language": "python",
   "name": "python3"
  },
  "language_info": {
   "codemirror_mode": {
    "name": "ipython",
    "version": 3
   },
   "file_extension": ".py",
   "mimetype": "text/x-python",
   "name": "python",
   "nbconvert_exporter": "python",
   "pygments_lexer": "ipython3",
   "version": "3.11.6"
  }
 },
 "nbformat": 4,
 "nbformat_minor": 2
}
